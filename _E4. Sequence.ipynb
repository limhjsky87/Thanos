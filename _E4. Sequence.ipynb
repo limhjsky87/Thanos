{
 "cells": [
  {
   "cell_type": "code",
   "execution_count": 1,
   "id": "drawn-routine",
   "metadata": {},
   "outputs": [
    {
     "name": "stdout",
     "output_type": "stream",
     "text": [
      "Source 문장: <start> 나는 밥을 먹었다 \n",
      "Target 문장:  나는 밥을 먹었다 <end>\n"
     ]
    }
   ],
   "source": [
    "sentence = \" 나는 밥을 먹었다 \"\n",
    "\n",
    "source_sentence = \"<start>\" + sentence\n",
    "target_sentence = sentence + \"<end>\"\n",
    "\n",
    "print(\"Source 문장:\", source_sentence)\n",
    "print(\"Target 문장:\", target_sentence)"
   ]
  },
  {
   "cell_type": "code",
   "execution_count": 2,
   "id": "corresponding-brown",
   "metadata": {},
   "outputs": [
    {
     "name": "stdout",
     "output_type": "stream",
     "text": [
      "['First Citizen:', 'Before we proceed any further, hear me speak.', '', 'All:', 'Speak, speak.', '', 'First Citizen:', 'You are all resolved rather to die than to famish?', '']\n"
     ]
    }
   ],
   "source": [
    "import os, re \n",
    "import numpy as np\n",
    "import tensorflow as tf\n",
    "\n",
    "# 파일을 읽기모드로 열고\n",
    "# 라인 단위로 끊어서 list 형태로 읽어옵니다.\n",
    "file_path = os.getenv('HOME') + '/aiffel/lyricist/data/shakespeare.txt'\n",
    "with open(file_path, \"r\") as f:\n",
    "    raw_corpus = f.read().splitlines()\n",
    "\n",
    "# 앞에서부터 10라인만 화면에 출력해 볼까요?\n",
    "print(raw_corpus[:9])"
   ]
  },
  {
   "cell_type": "code",
   "execution_count": 3,
   "id": "spatial-singles",
   "metadata": {},
   "outputs": [
    {
     "name": "stdout",
     "output_type": "stream",
     "text": [
      "Before we proceed any further, hear me speak.\n",
      "Speak, speak.\n",
      "You are all resolved rather to die than to famish?\n"
     ]
    }
   ],
   "source": [
    "for idx, sentence in enumerate(raw_corpus):\n",
    "    if len(sentence) == 0: continue   # 길이가 0인 문장은 건너뜁니다.\n",
    "    if sentence[-1] == \":\": continue  # 문장의 끝이 : 인 문장은 건너뜁니다.\n",
    "\n",
    "    if idx > 9: break   # 일단 문장 10개만 확인해 볼 겁니다.\n",
    "        \n",
    "    print(sentence)"
   ]
  },
  {
   "cell_type": "code",
   "execution_count": 4,
   "id": "written-queensland",
   "metadata": {},
   "outputs": [
    {
     "name": "stdout",
     "output_type": "stream",
     "text": [
      "<start> this is sample sentence . <end>\n"
     ]
    }
   ],
   "source": [
    "# 입력된 문장을\n",
    "#     1. 소문자로 바꾸고, 양쪽 공백을 지웁니다\n",
    "#     2. 특수문자 양쪽에 공백을 넣고\n",
    "#     3. 여러개의 공백은 하나의 공백으로 바꿉니다\n",
    "#     4. a-zA-Z?.!,¿가 아닌 모든 문자를 하나의 공백으로 바꿉니다\n",
    "#     5. 다시 양쪽 공백을 지웁니다\n",
    "#     6. 문장 시작에는 <start>, 끝에는 <end>를 추가합니다\n",
    "# 이 순서로 처리해주면 문제가 되는 상황을 방지할 수 있겠네요!\n",
    "def preprocess_sentence(sentence):\n",
    "    sentence = sentence.lower().strip() # 1\n",
    "    sentence = re.sub(r\"([?.!,¿])\", r\" \\1 \", sentence) # 2\n",
    "    sentence = re.sub(r'[\" \"]+', \" \", sentence) # 3\n",
    "    sentence = re.sub(r\"[^a-zA-Z?.!,¿]+\", \" \", sentence) # 4\n",
    "    sentence = sentence.strip() # 5\n",
    "    sentence = '<start> ' + sentence + ' <end>' # 6\n",
    "    return sentence\n",
    "\n",
    "# 이 문장이 어떻게 필터링되는지 확인해 보세요.\n",
    "print(preprocess_sentence(\"This @_is ;;;sample        sentence.\"))"
   ]
  },
  {
   "cell_type": "code",
   "execution_count": 5,
   "id": "orange-rotation",
   "metadata": {},
   "outputs": [
    {
     "data": {
      "text/plain": [
       "['<start> before we proceed any further , hear me speak . <end>',\n",
       " '<start> speak , speak . <end>',\n",
       " '<start> you are all resolved rather to die than to famish ? <end>',\n",
       " '<start> resolved . resolved . <end>',\n",
       " '<start> first , you know caius marcius is chief enemy to the people . <end>',\n",
       " '<start> we know t , we know t . <end>',\n",
       " '<start> let us kill him , and we ll have corn at our own price . <end>',\n",
       " '<start> is t a verdict ? <end>',\n",
       " '<start> no more talking on t let it be done away , away ! <end>',\n",
       " '<start> one word , good citizens . <end>']"
      ]
     },
     "execution_count": 5,
     "metadata": {},
     "output_type": "execute_result"
    }
   ],
   "source": [
    "# 여기에 정제된 문장을 모을겁니다\n",
    "corpus = []\n",
    "\n",
    "for sentence in raw_corpus:\n",
    "    # 우리가 원하지 않는 문장은 건너뜁니다\n",
    "    if len(sentence) == 0: continue\n",
    "    if sentence[-1] == \":\": continue\n",
    "    \n",
    "    # 정제를 하고 담아주세요\n",
    "    preprocessed_sentence = preprocess_sentence(sentence)\n",
    "    corpus.append(preprocessed_sentence)\n",
    "        \n",
    "# 정제된 결과를 10개만 확인해보죠\n",
    "corpus[:10]"
   ]
  },
  {
   "cell_type": "code",
   "execution_count": 6,
   "id": "subsequent-immigration",
   "metadata": {},
   "outputs": [
    {
     "name": "stdout",
     "output_type": "stream",
     "text": [
      "[[   2  143   40 ...    0    0    0]\n",
      " [   2  110    4 ...    0    0    0]\n",
      " [   2   11   50 ...    0    0    0]\n",
      " ...\n",
      " [   2  149 4553 ...    0    0    0]\n",
      " [   2   34   71 ...    0    0    0]\n",
      " [   2  945   34 ...    0    0    0]] <keras_preprocessing.text.Tokenizer object at 0x7fe6d61373d0>\n"
     ]
    }
   ],
   "source": [
    "# 토큰화 할 때 텐서플로우의 Tokenizer와 pad_sequences를 사용합니다\n",
    "# 더 잘 알기 위해 아래 문서들을 참고하면 좋습니다\n",
    "# https://www.tensorflow.org/api_docs/python/tf/keras/preprocessing/text/Tokenizer\n",
    "# https://www.tensorflow.org/api_docs/python/tf/keras/preprocessing/sequence/pad_sequences\n",
    "def tokenize(corpus):\n",
    "    # 7000단어를 기억할 수 있는 tokenizer를 만들겁니다\n",
    "    # 우리는 이미 문장을 정제했으니 filters가 필요없어요\n",
    "    # 7000단어에 포함되지 못한 단어는 '<unk>'로 바꿀거에요\n",
    "    tokenizer = tf.keras.preprocessing.text.Tokenizer(\n",
    "        num_words=7000, \n",
    "        filters=' ',\n",
    "        oov_token=\"<unk>\"\n",
    "    )\n",
    "    # corpus를 이용해 tokenizer 내부의 단어장을 완성합니다\n",
    "    tokenizer.fit_on_texts(corpus)\n",
    "    # 준비한 tokenizer를 이용해 corpus를 Tensor로 변환합니다\n",
    "    tensor = tokenizer.texts_to_sequences(corpus)   \n",
    "    # 입력 데이터의 시퀀스 길이를 일정하게 맞춰줍니다\n",
    "    # 만약 시퀀스가 짧다면 문장 뒤에 패딩을 붙여 길이를 맞춰줍니다.\n",
    "    # 문장 앞에 패딩을 붙여 길이를 맞추고 싶다면 padding='pre'를 사용합니다\n",
    "    tensor = tf.keras.preprocessing.sequence.pad_sequences(tensor, padding='post')  \n",
    "    \n",
    "    print(tensor,tokenizer)\n",
    "    return tensor, tokenizer\n",
    "\n",
    "tensor, tokenizer = tokenize(corpus)"
   ]
  },
  {
   "cell_type": "code",
   "execution_count": 7,
   "id": "consistent-maryland",
   "metadata": {},
   "outputs": [
    {
     "name": "stdout",
     "output_type": "stream",
     "text": [
      "[[   2  143   40  933  140  591    4  124   24  110]\n",
      " [   2  110    4  110    5    3    0    0    0    0]\n",
      " [   2   11   50   43 1201  316    9  201   74    9]]\n"
     ]
    }
   ],
   "source": [
    "print(tensor[:3, :10])"
   ]
  },
  {
   "cell_type": "code",
   "execution_count": 8,
   "id": "smart-mouse",
   "metadata": {},
   "outputs": [
    {
     "name": "stdout",
     "output_type": "stream",
     "text": [
      "1 : <unk>\n",
      "2 : <start>\n",
      "3 : <end>\n",
      "4 : ,\n",
      "5 : .\n",
      "6 : the\n",
      "7 : and\n",
      "8 : i\n",
      "9 : to\n",
      "10 : of\n"
     ]
    }
   ],
   "source": [
    "for idx in tokenizer.index_word:\n",
    "    print(idx, \":\", tokenizer.index_word[idx])\n",
    "\n",
    "    if idx >= 10: break"
   ]
  },
  {
   "cell_type": "code",
   "execution_count": 9,
   "id": "authorized-rouge",
   "metadata": {},
   "outputs": [
    {
     "name": "stdout",
     "output_type": "stream",
     "text": [
      "[  2 143  40 933 140 591   4 124  24 110   5   3   0   0   0   0   0   0\n",
      "   0   0]\n",
      "[143  40 933 140 591   4 124  24 110   5   3   0   0   0   0   0   0   0\n",
      "   0   0]\n"
     ]
    }
   ],
   "source": [
    "# tensor에서 마지막 토큰을 잘라내서 소스 문장을 생성합니다\n",
    "# 마지막 토큰은 <end>가 아니라 <pad>일 가능성이 높습니다.\n",
    "src_input = tensor[:, :-1]  \n",
    "# tensor에서 <start>를 잘라내서 타겟 문장을 생성합니다.\n",
    "tgt_input = tensor[:, 1:]    \n",
    "\n",
    "print(src_input[0])\n",
    "print(tgt_input[0])"
   ]
  },
  {
   "cell_type": "code",
   "execution_count": 10,
   "id": "known-filename",
   "metadata": {},
   "outputs": [
    {
     "data": {
      "text/plain": [
       "<BatchDataset shapes: ((256, 20), (256, 20)), types: (tf.int32, tf.int32)>"
      ]
     },
     "execution_count": 10,
     "metadata": {},
     "output_type": "execute_result"
    }
   ],
   "source": [
    "BUFFER_SIZE = len(src_input)\n",
    "BATCH_SIZE = 256\n",
    "steps_per_epoch = len(src_input) // BATCH_SIZE\n",
    "\n",
    " # tokenizer가 구축한 단어사전 내 7000개와, 여기 포함되지 않은 0:<pad>를 포함하여 7001개\n",
    "VOCAB_SIZE = tokenizer.num_words + 1   \n",
    "\n",
    "# 준비한 데이터 소스로부터 데이터셋을 만듭니다\n",
    "# 데이터셋에 대해서는 아래 문서를 참고하세요\n",
    "# 자세히 알아둘수록 도움이 많이 되는 중요한 문서입니다\n",
    "# https://www.tensorflow.org/api_docs/python/tf/data/Dataset\n",
    "dataset = tf.data.Dataset.from_tensor_slices((src_input, tgt_input))\n",
    "dataset = dataset.shuffle(BUFFER_SIZE)\n",
    "dataset = dataset.batch(BATCH_SIZE, drop_remainder=True)\n",
    "dataset"
   ]
  },
  {
   "cell_type": "code",
   "execution_count": 11,
   "id": "crucial-finger",
   "metadata": {},
   "outputs": [],
   "source": [
    "class TextGenerator(tf.keras.Model):\n",
    "    def __init__(self, vocab_size, embedding_size, hidden_size):\n",
    "        super().__init__()\n",
    "        \n",
    "        self.embedding = tf.keras.layers.Embedding(vocab_size, embedding_size)\n",
    "        self.rnn_1 = tf.keras.layers.LSTM(hidden_size, return_sequences=True)\n",
    "        self.rnn_2 = tf.keras.layers.LSTM(hidden_size, return_sequences=True)\n",
    "        self.linear = tf.keras.layers.Dense(vocab_size)\n",
    "        \n",
    "    def call(self, x):\n",
    "        out = self.embedding(x)\n",
    "        out = self.rnn_1(out)\n",
    "        out = self.rnn_2(out)\n",
    "        out = self.linear(out)\n",
    "        \n",
    "        return out\n",
    "    \n",
    "embedding_size = 256\n",
    "hidden_size = 1024\n",
    "model = TextGenerator(tokenizer.num_words + 1, embedding_size , hidden_size)"
   ]
  },
  {
   "cell_type": "code",
   "execution_count": 12,
   "id": "blessed-simpson",
   "metadata": {},
   "outputs": [
    {
     "data": {
      "text/plain": [
       "<tf.Tensor: shape=(256, 20, 7001), dtype=float32, numpy=\n",
       "array([[[-6.56533621e-06, -2.98769392e-05, -3.75881471e-04, ...,\n",
       "         -1.20134595e-04,  1.13174756e-04, -2.16115164e-04],\n",
       "        [ 4.20975033e-04,  2.71521218e-04, -4.44356090e-04, ...,\n",
       "         -6.53549912e-04,  1.66025711e-04, -2.83486879e-04],\n",
       "        [ 4.72840125e-04,  2.53630569e-04, -4.48519393e-04, ...,\n",
       "         -7.16038805e-04, -1.27936786e-04, -4.02175297e-04],\n",
       "        ...,\n",
       "        [-1.69973832e-03,  4.99817310e-03, -3.11300159e-03, ...,\n",
       "         -2.14466010e-03,  2.54091970e-03, -1.81813631e-03],\n",
       "        [-1.95481069e-03,  5.58874710e-03, -3.51700955e-03, ...,\n",
       "         -2.41045165e-03,  2.63944431e-03, -1.85708643e-03],\n",
       "        [-2.16707378e-03,  6.10611914e-03, -3.87378992e-03, ...,\n",
       "         -2.65984330e-03,  2.71389144e-03, -1.90038281e-03]],\n",
       "\n",
       "       [[-6.56533621e-06, -2.98769392e-05, -3.75881471e-04, ...,\n",
       "         -1.20134595e-04,  1.13174756e-04, -2.16115164e-04],\n",
       "        [-2.11579201e-04,  7.43773417e-05, -6.07520808e-04, ...,\n",
       "         -1.05121304e-04,  8.50600627e-05, -2.64721748e-04],\n",
       "        [-3.28533322e-04,  2.76640669e-04, -8.14003346e-04, ...,\n",
       "         -2.56058382e-04, -1.14491850e-04, -1.17233983e-04],\n",
       "        ...,\n",
       "        [-1.15018478e-03,  4.03191801e-03, -3.24552623e-03, ...,\n",
       "         -1.12169830e-03,  3.27274110e-03, -7.46242178e-04],\n",
       "        [-1.38810195e-03,  4.65390272e-03, -3.61946691e-03, ...,\n",
       "         -1.39236287e-03,  3.29537899e-03, -8.38217209e-04],\n",
       "        [-1.60512351e-03,  5.22579765e-03, -3.95970419e-03, ...,\n",
       "         -1.66986114e-03,  3.29681300e-03, -9.56502452e-04]],\n",
       "\n",
       "       [[-6.56533621e-06, -2.98769392e-05, -3.75881471e-04, ...,\n",
       "         -1.20134595e-04,  1.13174756e-04, -2.16115164e-04],\n",
       "        [-5.67050301e-05, -2.30840906e-05, -4.28854866e-04, ...,\n",
       "         -3.21474363e-04,  1.74208602e-04,  6.84315910e-06],\n",
       "        [ 1.20466852e-04,  1.52492008e-04, -1.28631946e-04, ...,\n",
       "         -1.87973157e-04,  5.79647822e-05,  9.97090101e-05],\n",
       "        ...,\n",
       "        [-1.91288209e-03,  6.02318114e-03, -3.83491651e-03, ...,\n",
       "         -2.67177960e-03,  2.47114734e-03, -1.27907982e-03],\n",
       "        [-2.08079442e-03,  6.41990313e-03, -4.14405623e-03, ...,\n",
       "         -2.89591635e-03,  2.54651229e-03, -1.42805558e-03],\n",
       "        [-2.22445116e-03,  6.77238591e-03, -4.40029660e-03, ...,\n",
       "         -3.09999357e-03,  2.60667456e-03, -1.55840022e-03]],\n",
       "\n",
       "       ...,\n",
       "\n",
       "       [[-6.56533621e-06, -2.98769392e-05, -3.75881471e-04, ...,\n",
       "         -1.20134595e-04,  1.13174756e-04, -2.16115164e-04],\n",
       "        [-1.02033773e-04,  2.67812633e-04, -8.69468087e-04, ...,\n",
       "         -2.08216981e-04, -6.34721146e-05, -3.13817785e-04],\n",
       "        [-2.03261239e-04,  3.87494219e-04, -1.17430324e-03, ...,\n",
       "         -3.68391717e-04, -3.82676313e-04, -4.32814384e-04],\n",
       "        ...,\n",
       "        [-2.00201198e-03,  5.26466547e-03, -3.71491746e-03, ...,\n",
       "         -2.40548165e-03,  2.48732627e-03, -1.52655039e-03],\n",
       "        [-2.17356649e-03,  5.74573176e-03, -4.03142814e-03, ...,\n",
       "         -2.64383503e-03,  2.55001197e-03, -1.66527997e-03],\n",
       "        [-2.31725280e-03,  6.18340122e-03, -4.30459250e-03, ...,\n",
       "         -2.86348793e-03,  2.60465429e-03, -1.78545550e-03]],\n",
       "\n",
       "       [[-6.56533621e-06, -2.98769392e-05, -3.75881471e-04, ...,\n",
       "         -1.20134595e-04,  1.13174756e-04, -2.16115164e-04],\n",
       "        [ 3.50852846e-04, -4.19582939e-05, -5.58600645e-04, ...,\n",
       "         -2.84401060e-04, -1.18809025e-04, -4.34084854e-04],\n",
       "        [ 7.70377868e-04, -4.81788484e-05, -6.62507897e-04, ...,\n",
       "         -2.24597243e-04, -2.69796670e-04, -7.73410604e-04],\n",
       "        ...,\n",
       "        [-1.68162212e-03,  4.57784580e-03, -3.23030143e-03, ...,\n",
       "         -2.59979116e-03,  1.64207804e-03, -1.67972012e-03],\n",
       "        [-1.94178522e-03,  5.17390063e-03, -3.62902507e-03, ...,\n",
       "         -2.75538955e-03,  1.80321548e-03, -1.75234070e-03],\n",
       "        [-2.15906836e-03,  5.70964720e-03, -3.97456810e-03, ...,\n",
       "         -2.91591161e-03,  1.94362167e-03, -1.82228826e-03]],\n",
       "\n",
       "       [[-6.56533621e-06, -2.98769392e-05, -3.75881471e-04, ...,\n",
       "         -1.20134595e-04,  1.13174756e-04, -2.16115164e-04],\n",
       "        [-1.04037957e-04, -2.18393965e-04, -6.62362145e-04, ...,\n",
       "         -1.18412470e-04, -3.62836217e-05, -4.09325963e-04],\n",
       "        [-4.06118816e-05, -5.40679757e-05, -6.65345462e-04, ...,\n",
       "         -1.81473413e-04, -5.31865458e-04, -4.25675273e-04],\n",
       "        ...,\n",
       "        [-1.48991484e-03,  4.81083896e-03, -3.47268418e-03, ...,\n",
       "         -2.16614688e-03,  2.28475104e-03, -1.11441966e-03],\n",
       "        [-1.78990408e-03,  5.37970662e-03, -3.78571637e-03, ...,\n",
       "         -2.40710028e-03,  2.41187681e-03, -1.21606677e-03],\n",
       "        [-2.03943951e-03,  5.88697754e-03, -4.07246361e-03, ...,\n",
       "         -2.63632368e-03,  2.51080166e-03, -1.32719974e-03]]],\n",
       "      dtype=float32)>"
      ]
     },
     "execution_count": 12,
     "metadata": {},
     "output_type": "execute_result"
    }
   ],
   "source": [
    "# 데이터셋에서 데이터 한 배치만 불러오는 방법입니다.\n",
    "# 지금은 동작 원리에 너무 빠져들지 마세요~\n",
    "for src_sample, tgt_sample in dataset.take(1): break\n",
    "\n",
    "# 한 배치만 불러온 데이터를 모델에 넣어봅니다\n",
    "model(src_sample)"
   ]
  },
  {
   "cell_type": "code",
   "execution_count": 13,
   "id": "corresponding-compact",
   "metadata": {},
   "outputs": [
    {
     "name": "stdout",
     "output_type": "stream",
     "text": [
      "Model: \"text_generator\"\n",
      "_________________________________________________________________\n",
      "Layer (type)                 Output Shape              Param #   \n",
      "=================================================================\n",
      "embedding (Embedding)        multiple                  1792256   \n",
      "_________________________________________________________________\n",
      "lstm (LSTM)                  multiple                  5246976   \n",
      "_________________________________________________________________\n",
      "lstm_1 (LSTM)                multiple                  8392704   \n",
      "_________________________________________________________________\n",
      "dense (Dense)                multiple                  7176025   \n",
      "=================================================================\n",
      "Total params: 22,607,961\n",
      "Trainable params: 22,607,961\n",
      "Non-trainable params: 0\n",
      "_________________________________________________________________\n"
     ]
    }
   ],
   "source": [
    "model.summary()"
   ]
  },
  {
   "cell_type": "code",
   "execution_count": 14,
   "id": "naval-excerpt",
   "metadata": {},
   "outputs": [
    {
     "name": "stdout",
     "output_type": "stream",
     "text": [
      "Epoch 1/30\n",
      "93/93 [==============================] - 68s 706ms/step - loss: 4.4966\n",
      "Epoch 2/30\n",
      "93/93 [==============================] - 67s 723ms/step - loss: 2.8795\n",
      "Epoch 3/30\n",
      "93/93 [==============================] - 67s 723ms/step - loss: 2.7809\n",
      "Epoch 4/30\n",
      "93/93 [==============================] - 67s 721ms/step - loss: 2.6924\n",
      "Epoch 5/30\n",
      "93/93 [==============================] - 67s 721ms/step - loss: 2.5935\n",
      "Epoch 6/30\n",
      "93/93 [==============================] - 67s 721ms/step - loss: 2.5376\n",
      "Epoch 7/30\n",
      "93/93 [==============================] - 67s 722ms/step - loss: 2.4950\n",
      "Epoch 8/30\n",
      "93/93 [==============================] - 67s 721ms/step - loss: 2.4521\n",
      "Epoch 9/30\n",
      "93/93 [==============================] - 67s 719ms/step - loss: 2.3950\n",
      "Epoch 10/30\n",
      "93/93 [==============================] - 67s 719ms/step - loss: 2.3471\n",
      "Epoch 11/30\n",
      "93/93 [==============================] - 67s 719ms/step - loss: 2.3093\n",
      "Epoch 12/30\n",
      "93/93 [==============================] - 67s 718ms/step - loss: 2.2710\n",
      "Epoch 13/30\n",
      "93/93 [==============================] - 67s 718ms/step - loss: 2.2297\n",
      "Epoch 14/30\n",
      "93/93 [==============================] - 67s 717ms/step - loss: 2.1907\n",
      "Epoch 15/30\n",
      "93/93 [==============================] - 67s 717ms/step - loss: 2.1618\n",
      "Epoch 16/30\n",
      "93/93 [==============================] - 67s 717ms/step - loss: 2.1269\n",
      "Epoch 17/30\n",
      "93/93 [==============================] - 67s 718ms/step - loss: 2.0835\n",
      "Epoch 18/30\n",
      "93/93 [==============================] - 67s 717ms/step - loss: 2.0477\n",
      "Epoch 19/30\n",
      "93/93 [==============================] - 67s 717ms/step - loss: 2.0079\n",
      "Epoch 20/30\n",
      "93/93 [==============================] - 67s 716ms/step - loss: 1.9688\n",
      "Epoch 21/30\n",
      "93/93 [==============================] - 67s 717ms/step - loss: 1.9307\n",
      "Epoch 22/30\n",
      "93/93 [==============================] - 67s 716ms/step - loss: 1.8883\n",
      "Epoch 23/30\n",
      "93/93 [==============================] - 67s 716ms/step - loss: 1.8575\n",
      "Epoch 24/30\n",
      "93/93 [==============================] - 67s 716ms/step - loss: 1.8220\n",
      "Epoch 25/30\n",
      "93/93 [==============================] - 67s 716ms/step - loss: 1.7816\n",
      "Epoch 26/30\n",
      "93/93 [==============================] - 67s 715ms/step - loss: 1.7428\n",
      "Epoch 27/30\n",
      "93/93 [==============================] - 67s 716ms/step - loss: 1.7062\n",
      "Epoch 28/30\n",
      "93/93 [==============================] - 67s 715ms/step - loss: 1.6656\n",
      "Epoch 29/30\n",
      "93/93 [==============================] - 67s 715ms/step - loss: 1.6287\n",
      "Epoch 30/30\n",
      "93/93 [==============================] - 66s 710ms/step - loss: 1.5932\n"
     ]
    },
    {
     "data": {
      "text/plain": [
       "<tensorflow.python.keras.callbacks.History at 0x7fe6d5f4f250>"
      ]
     },
     "execution_count": 14,
     "metadata": {},
     "output_type": "execute_result"
    }
   ],
   "source": [
    "# optimizer와 loss등은 차차 배웁니다\n",
    "# 혹시 미리 알고 싶다면 아래 문서를 참고하세요\n",
    "# https://www.tensorflow.org/api_docs/python/tf/keras/optimizers\n",
    "# https://www.tensorflow.org/api_docs/python/tf/keras/losses\n",
    "# 양이 상당히 많은 편이니 지금 보는 것은 추천하지 않습니다\n",
    "optimizer = tf.keras.optimizers.Adam()\n",
    "loss = tf.keras.losses.SparseCategoricalCrossentropy(\n",
    "    from_logits=True,\n",
    "    reduction='none'\n",
    ")\n",
    "\n",
    "model.compile(loss=loss, optimizer=optimizer)\n",
    "model.fit(dataset, epochs=30)"
   ]
  },
  {
   "cell_type": "code",
   "execution_count": 15,
   "id": "collaborative-cruise",
   "metadata": {},
   "outputs": [],
   "source": [
    "class TextGenerator(tf.keras.Model):\n",
    "    def __init__(self, vocab_size, embedding_size, hidden_size):\n",
    "        super().__init__()\n",
    "        \n",
    "        self.embedding = tf.keras.layers.Embedding(vocab_size, embedding_size)\n",
    "        self.rnn_1 = tf.keras.layers.LSTM(hidden_size, return_sequences=True)\n",
    "        self.rnn_2 = tf.keras.layers.LSTM(hidden_size, return_sequences=True)\n",
    "        self.linear = tf.keras.layers.Dense(vocab_size)\n",
    "        \n",
    "    def call(self, x):\n",
    "        out = self.embedding(x)\n",
    "        out = self.rnn_1(out)\n",
    "        out = self.rnn_2(out)\n",
    "        out = self.linear(out)\n",
    "        \n",
    "        return out\n",
    "    \n",
    "embedding_size = 256\n",
    "hidden_size = 1024\n",
    "model = TextGenerator(tokenizer.num_words + 1, embedding_size , hidden_size)"
   ]
  },
  {
   "cell_type": "code",
   "execution_count": 16,
   "id": "medieval-throw",
   "metadata": {},
   "outputs": [],
   "source": [
    "def generate_text(model, tokenizer, init_sentence=\"<start>\", max_len=20):\n",
    "    # 테스트를 위해서 입력받은 init_sentence도 텐서로 변환합니다\n",
    "    test_input = tokenizer.texts_to_sequences([init_sentence])\n",
    "    test_tensor = tf.convert_to_tensor(test_input, dtype=tf.int64)\n",
    "    end_token = tokenizer.word_index[\"<end>\"]\n",
    "\n",
    "    # 단어 하나씩 예측해 문장을 만듭니다\n",
    "    #    1. 입력받은 문장의 텐서를 입력합니다\n",
    "    #    2. 예측된 값 중 가장 높은 확률인 word index를 뽑아냅니다\n",
    "    #    3. 2에서 예측된 word index를 문장 뒤에 붙입니다\n",
    "    #    4. 모델이 <end>를 예측했거나, max_len에 도달했다면 문장 생성을 마칩니다\n",
    "    while True:\n",
    "        # 1\n",
    "        predict = model(test_tensor) \n",
    "        # 2\n",
    "        predict_word = tf.argmax(tf.nn.softmax(predict, axis=-1), axis=-1)[:, -1] \n",
    "        # 3 \n",
    "        test_tensor = tf.concat([test_tensor, tf.expand_dims(predict_word, axis=0)], axis=-1)\n",
    "        # 4\n",
    "        if predict_word.numpy()[0] == end_token: break\n",
    "        if test_tensor.shape[1] >= max_len: break\n",
    "\n",
    "    generated = \"\"\n",
    "    # tokenizer를 이용해 word index를 단어로 하나씩 변환합니다 \n",
    "    for word_index in test_tensor[0].numpy():\n",
    "        generated += tokenizer.index_word[word_index] + \" \"\n",
    "\n",
    "    return generated"
   ]
  },
  {
   "cell_type": "code",
   "execution_count": 17,
   "id": "tropical-murder",
   "metadata": {},
   "outputs": [
    {
     "data": {
      "text/plain": [
       "'<start> he tears strength strength strength tops information information breed breed breed breed born born born instigation roused roused dictator '"
      ]
     },
     "execution_count": 17,
     "metadata": {},
     "output_type": "execute_result"
    }
   ],
   "source": [
    "generate_text(model, tokenizer, init_sentence=\"<start> he\")"
   ]
  },
  {
   "cell_type": "code",
   "execution_count": 28,
   "id": "unknown-diploma",
   "metadata": {},
   "outputs": [],
   "source": [
    "import os\n",
    "import glob\n",
    "import re\n",
    "import matplotlib.pyplot as plt\n",
    "import numpy as np\n",
    "\n",
    "import tensorflow as tf\n",
    "from sklearn.model_selection import train_test_split"
   ]
  },
  {
   "cell_type": "code",
   "execution_count": 29,
   "id": "civilian-dictionary",
   "metadata": {},
   "outputs": [],
   "source": [
    "def preprocess_sentence(sentence):\n",
    "    sentence = sentence.lower().strip()       # 소문자로 바꾸고 양쪽 공백을 삭제\n",
    "  \n",
    "    # 아래 3단계를 거쳐 sentence는 스페이스 1개를 delimeter로 하는 소문자 단어 시퀀스로 바뀝니다.\n",
    "    sentence = re.sub(r\"([?.!,¿])\", r\" \\1 \", sentence)        # 패턴의 특수문자를 만나면 특수문자 양쪽에 공백을 추가\n",
    "    sentence = re.sub(r'[\" \"]+', \" \", sentence)                  # 공백 패턴을 만나면 스페이스 1개로 치환\n",
    "    sentence = re.sub(r\"[^a-zA-Z?.!,¿]+\", \" \", sentence)  # a-zA-Z?.!,¿ 패턴을 제외한 모든 문자(공백문자까지도)를 스페이스 1개로 치환\n",
    "\n",
    "    sentence = sentence.strip()\n",
    "\n",
    "    sentence = '<start> ' + sentence + ' <end>'      # 이전 스텝에서 본 것처럼 문장 앞뒤로 <start>와 <end>를 단어처럼 붙여 줍니다\n",
    "    \n",
    "    return sentence"
   ]
  },
  {
   "cell_type": "code",
   "execution_count": 30,
   "id": "rolled-heating",
   "metadata": {},
   "outputs": [],
   "source": [
    "def tokenize(corpus):\n",
    "    # 텐서플로우에서 제공하는 Tokenizer 패키지를 생성\n",
    "    tokenizer = tf.keras.preprocessing.text.Tokenizer(\n",
    "        num_words=7000,  # 전체 단어의 개수 \n",
    "        filters=' ',    # 별도로 전처리 로직을 추가할 수 있습니다. 이번에는 사용하지 않겠습니다.\n",
    "        oov_token=\"<unk>\"  # out-of-vocabulary, 사전에 없었던 단어는 어떤 토큰으로 대체할지\n",
    "    )\n",
    "    tokenizer.fit_on_texts(corpus)   # 우리가 구축한 corpus로부터 Tokenizer가 사전을 자동구축하게 됩니다.\n",
    "\n",
    "    # 이후 tokenizer를 활용하여 모델에 입력할 데이터셋을 구축하게 됩니다.\n",
    "    tensor = tokenizer.texts_to_sequences(corpus)   # tokenizer는 구축한 사전으로부터 corpus를 해석해 Tensor로 변환합니다.\n",
    "\n",
    "    # 입력 데이터의 시퀀스 길이를 일정하게 맞추기 위한 padding  메소드를 제공합니다.\n",
    "    # maxlen의 디폴트값은 None입니다. 이 경우 corpus의 가장 긴 문장을 기준으로 시퀀스 길이가 맞춰집니다.\n",
    "    tensor = tf.keras.preprocessing.sequence.pad_sequences(tensor, padding='post', maxlen=15)  \n",
    "\n",
    "    print(tensor,tokenizer)\n",
    "    return tensor, tokenizer"
   ]
  },
  {
   "cell_type": "code",
   "execution_count": 32,
   "id": "familiar-toyota",
   "metadata": {},
   "outputs": [],
   "source": [
    "def generate_text(model, tokenizer, init_sentence=\"<start>\", max_len=20):\n",
    "    # 테스트를 위해서 입력받은 init_sentence도 일단 텐서로 변환합니다.\n",
    "    test_input = tokenizer.texts_to_sequences([init_sentence])\n",
    "    test_tensor = tf.convert_to_tensor(test_input, dtype=tf.int64)\n",
    "    end_token = tokenizer.word_index[\"<end>\"]\n",
    "\n",
    "    # 텍스트를 실제로 생성할때는 루프를 돌면서 단어 하나씩 생성해야 합니다. \n",
    "    while True:\n",
    "        predict = model(test_tensor)  # 입력받은 문장의 텐서를 입력합니다. \n",
    "        predict_word = tf.argmax(tf.nn.softmax(predict, axis=-1), axis=-1)[:, -1]   # 우리 모델이 예측한 마지막 단어가 바로 새롭게 생성한 단어가 됩니다. \n",
    "\n",
    "        # 우리 모델이 새롭게 예측한 단어를 입력 문장의 뒤에 붙여 줍니다. \n",
    "        test_tensor = tf.concat([test_tensor, \n",
    "        tf.expand_dims(predict_word, axis=0)], axis=-1)\n",
    "\n",
    "        # 우리 모델이 <END>를 예측했거나, max_len에 도달하지 않았다면  while 루프를 또 돌면서 다음 단어를 예측해야 합니다.\n",
    "        if predict_word.numpy()[0] == end_token: break\n",
    "        if test_tensor.shape[1] >= max_len: break\n",
    "\n",
    "    generated = \"\"\n",
    "    # 생성된 tensor 안에 있는 word index를 tokenizer.index_word 사전을 통해 실제 단어로 하나씩 변환합니다. \n",
    "    for word_index in test_tensor[0].numpy():\n",
    "        generated += tokenizer.index_word[word_index] + \" \"\n",
    "\n",
    "    return generated   # 이것이 최종적으로 모델이 생성한 자연어 문장입니다."
   ]
  },
  {
   "cell_type": "code",
   "execution_count": 34,
   "id": "least-bride",
   "metadata": {},
   "outputs": [
    {
     "name": "stdout",
     "output_type": "stream",
     "text": [
      "데이터 크기: 187088\n",
      "Examples:\n",
      " ['At first I was afraid', 'I was petrified', 'I kept thinking I could never live without you']\n"
     ]
    }
   ],
   "source": [
    "txt_file_path = os.getenv('HOME')+'/aiffel//lyricist/data/lyrics/*'\n",
    "\n",
    "txt_list = glob.glob(txt_file_path)\n",
    "\n",
    "raw_corpus = []\n",
    "\n",
    "# 여러개의 txt 파일을 모두 읽어서 raw_corpus 에 담습니다.\n",
    "for txt_file in txt_list:\n",
    "    with open(txt_file, \"r\") as f:\n",
    "        raw = f.read().splitlines()\n",
    "        raw_corpus.extend(raw)\n",
    "\n",
    "print(\"데이터 크기:\", len(raw_corpus))\n",
    "print(\"Examples:\\n\", raw_corpus[:3])"
   ]
  },
  {
   "cell_type": "code",
   "execution_count": 35,
   "id": "committed-multiple",
   "metadata": {},
   "outputs": [
    {
     "data": {
      "text/plain": [
       "['<start> at first i was afraid <end>',\n",
       " '<start> i was petrified <end>',\n",
       " '<start> i kept thinking i could never live without you <end>',\n",
       " '<start> by my side but then i spent so many nights <end>',\n",
       " '<start> just thinking how you ve done me wrong <end>',\n",
       " '<start> i grew strong <end>',\n",
       " '<start> i learned how to get along and so you re back <end>',\n",
       " '<start> from outer space <end>',\n",
       " '<start> i just walked in to find you <end>',\n",
       " '<start> here without that look upon your face i should have changed that fucking lock <end>']"
      ]
     },
     "execution_count": 35,
     "metadata": {},
     "output_type": "execute_result"
    }
   ],
   "source": [
    "corpus = []\n",
    "\n",
    "for sentence in raw_corpus:\n",
    "    if len(sentence) == 0: continue\n",
    "    if sentence[-1] == \":\": continue\n",
    "        \n",
    "    corpus.append(preprocess_sentence(sentence))\n",
    "        \n",
    "corpus[:10]"
   ]
  },
  {
   "cell_type": "code",
   "execution_count": 36,
   "id": "sapphire-institution",
   "metadata": {},
   "outputs": [
    {
     "name": "stdout",
     "output_type": "stream",
     "text": [
      "[[   2   71  241 ...    0    0    0]\n",
      " [   2    5   57 ...    0    0    0]\n",
      " [   2    5 1094 ...    0    0    0]\n",
      " ...\n",
      " [   2   48   16 ...    0    0    0]\n",
      " [  25    9 2855 ...  264   19    3]\n",
      " [   2    6  180 ...    0    0    0]] <keras_preprocessing.text.Tokenizer object at 0x7fe6f8bbd3d0>\n"
     ]
    }
   ],
   "source": [
    "tensor, tokenizer = tokenize(corpus)"
   ]
  },
  {
   "cell_type": "code",
   "execution_count": 37,
   "id": "proud-valuable",
   "metadata": {},
   "outputs": [
    {
     "name": "stdout",
     "output_type": "stream",
     "text": [
      "[  2  71 241   5  57 664   3   0   0   0   0   0   0   0]\n",
      "[ 71 241   5  57 664   3   0   0   0   0   0   0   0   0]\n"
     ]
    }
   ],
   "source": [
    "src_input = tensor[:, :-1]  # tensor에서 마지막 토큰을 잘라내서 소스 문장을 생성합니다. 마지막 토큰은 <END>가 아니라 <pad>일 가능성이 높습니다.\n",
    "tgt_input = tensor[:, 1:]    # tensor에서 <START>를 잘라내서 타겟 문장을 생성합니다.\n",
    "\n",
    "print(src_input[0])\n",
    "print(tgt_input[0])"
   ]
  },
  {
   "cell_type": "code",
   "execution_count": 38,
   "id": "private-monte",
   "metadata": {},
   "outputs": [],
   "source": [
    "enc_train, enc_val, dec_train, dec_val = train_test_split(src_input, tgt_input, test_size=0.2, random_state=2020)"
   ]
  },
  {
   "cell_type": "code",
   "execution_count": 39,
   "id": "personalized-capture",
   "metadata": {},
   "outputs": [],
   "source": [
    "BUFFER_SIZE = len(src_input)\n",
    "BATCH_SIZE = 256\n",
    "steps_per_epoch = len(src_input) // BATCH_SIZE\n",
    "\n",
    "VOCAB_SIZE = tokenizer.num_words + 1    # tokenizer가 구축한 단어사전 내 7000개와, 여기 포함되지 않은 0:<pad>를 포함하여 7001개"
   ]
  },
  {
   "cell_type": "code",
   "execution_count": 40,
   "id": "sharing-williams",
   "metadata": {},
   "outputs": [
    {
     "data": {
      "text/plain": [
       "<BatchDataset shapes: ((256, 14), (256, 14)), types: (tf.int32, tf.int32)>"
      ]
     },
     "execution_count": 40,
     "metadata": {},
     "output_type": "execute_result"
    }
   ],
   "source": [
    "dataset = tf.data.Dataset.from_tensor_slices((enc_train, dec_train)).shuffle(BUFFER_SIZE)\n",
    "dataset = dataset.batch(BATCH_SIZE, drop_remainder=True)\n",
    "dataset"
   ]
  },
  {
   "cell_type": "code",
   "execution_count": 41,
   "id": "processed-ordinance",
   "metadata": {},
   "outputs": [
    {
     "data": {
      "text/plain": [
       "<BatchDataset shapes: ((256, 14), (256, 14)), types: (tf.int32, tf.int32)>"
      ]
     },
     "execution_count": 41,
     "metadata": {},
     "output_type": "execute_result"
    }
   ],
   "source": [
    "val_dataset = tf.data.Dataset.from_tensor_slices((enc_val, dec_val)).shuffle(BUFFER_SIZE)\n",
    "val_dataset = val_dataset.batch(BATCH_SIZE, drop_remainder=True)\n",
    "val_dataset"
   ]
  },
  {
   "cell_type": "code",
   "execution_count": 42,
   "id": "abroad-carrier",
   "metadata": {},
   "outputs": [],
   "source": [
    "class TextGenerator(tf.keras.Model):\n",
    "    def __init__(self, vocab_size, embedding_size, hidden_size):\n",
    "        super(TextGenerator, self).__init__()\n",
    "        \n",
    "        self.embedding = tf.keras.layers.Embedding(vocab_size, embedding_size)\n",
    "        self.rnn_1 = tf.keras.layers.LSTM(hidden_size, return_sequences=True)\n",
    "        self.drop1 = tf.keras.layers.Dropout(0.3)\n",
    "        self.rnn_2 = tf.keras.layers.LSTM(hidden_size, return_sequences=True)\n",
    "        self.linear = tf.keras.layers.Dense(vocab_size)\n",
    "        \n",
    "    def call(self, x):\n",
    "        out = self.embedding(x)\n",
    "        out = self.rnn_1(out)\n",
    "        out = self.drop1(out)\n",
    "        out = self.rnn_2(out)\n",
    "        out = self.linear(out)\n",
    "        \n",
    "        return out\n",
    "    \n",
    "embedding_size = 2048\n",
    "hidden_size = 2048\n",
    "model = TextGenerator(tokenizer.num_words + 1, embedding_size , hidden_size)"
   ]
  },
  {
   "cell_type": "code",
   "execution_count": 43,
   "id": "opponent-keyboard",
   "metadata": {},
   "outputs": [
    {
     "data": {
      "text/plain": [
       "<tf.Tensor: shape=(256, 14, 7001), dtype=float32, numpy=\n",
       "array([[[ 3.2617524e-04, -3.1723385e-04, -6.5875694e-04, ...,\n",
       "         -4.2462838e-04, -2.6549312e-04, -9.7635691e-04],\n",
       "        [ 5.6083529e-04, -4.5314492e-04, -9.7904261e-04, ...,\n",
       "         -8.4836729e-04,  1.1798703e-03, -1.7216530e-03],\n",
       "        [ 1.0628188e-03, -2.7796542e-04, -1.3173108e-03, ...,\n",
       "         -9.0924848e-04,  2.1677692e-03, -2.4381955e-03],\n",
       "        ...,\n",
       "        [ 8.6617647e-03, -5.5194758e-03, -4.5191427e-04, ...,\n",
       "         -1.1348346e-03,  3.6444340e-03, -1.9156162e-03],\n",
       "        [ 1.0135183e-02, -6.5527656e-03, -6.2286237e-04, ...,\n",
       "         -1.0949633e-03,  3.3875366e-03, -1.9985880e-03],\n",
       "        [ 1.1561222e-02, -7.5026611e-03, -7.5428770e-04, ...,\n",
       "         -1.0800561e-03,  3.0998315e-03, -2.1314255e-03]],\n",
       "\n",
       "       [[ 3.2617524e-04, -3.1723385e-04, -6.5875694e-04, ...,\n",
       "         -4.2462838e-04, -2.6549312e-04, -9.7635691e-04],\n",
       "        [ 2.3567866e-04, -6.1574072e-04, -1.8643787e-03, ...,\n",
       "         -4.7687799e-04, -8.6013191e-05, -1.9062868e-03],\n",
       "        [-3.6173881e-04, -1.1075271e-03, -2.4140787e-03, ...,\n",
       "         -4.6961111e-04,  5.9079617e-04, -1.9067351e-03],\n",
       "        ...,\n",
       "        [ 2.7810927e-03, -2.7092469e-03,  2.0811677e-03, ...,\n",
       "         -1.6217277e-03, -1.6778406e-03,  1.3918236e-04],\n",
       "        [ 4.4778683e-03, -3.8265367e-03,  1.7236796e-03, ...,\n",
       "         -1.5508864e-03, -1.0667675e-03, -1.7163614e-04],\n",
       "        [ 6.2459749e-03, -4.9399994e-03,  1.3306953e-03, ...,\n",
       "         -1.4769962e-03, -5.1528495e-04, -4.9543986e-04]],\n",
       "\n",
       "       [[ 3.2617524e-04, -3.1723385e-04, -6.5875694e-04, ...,\n",
       "         -4.2462838e-04, -2.6549312e-04, -9.7635691e-04],\n",
       "        [ 1.4400191e-04, -2.0794701e-04, -1.2139628e-03, ...,\n",
       "         -1.6208834e-03, -2.3409614e-04, -1.6332534e-03],\n",
       "        [ 1.1114634e-03,  5.1843013e-05, -3.1617211e-04, ...,\n",
       "         -2.3726572e-03,  1.3077671e-04, -2.1386051e-03],\n",
       "        ...,\n",
       "        [ 2.8223931e-03, -2.2461219e-03,  1.9708092e-05, ...,\n",
       "         -3.7448067e-04,  3.0726136e-03, -4.8972812e-04],\n",
       "        [ 3.7645982e-03, -3.1296359e-03,  6.1945168e-05, ...,\n",
       "         -6.6468708e-04,  3.0225436e-03, -7.5604382e-04],\n",
       "        [ 4.8972606e-03, -4.0949131e-03,  3.3068376e-05, ...,\n",
       "         -9.1926480e-04,  2.9680093e-03, -1.0319798e-03]],\n",
       "\n",
       "       ...,\n",
       "\n",
       "       [[ 3.2617524e-04, -3.1723385e-04, -6.5875694e-04, ...,\n",
       "         -4.2462838e-04, -2.6549312e-04, -9.7635691e-04],\n",
       "        [ 2.3918014e-04, -8.5399649e-04, -1.0622761e-03, ...,\n",
       "         -2.5609630e-04, -7.0503564e-04, -4.1401514e-04],\n",
       "        [-3.5578450e-05, -1.6331729e-03, -1.4597888e-03, ...,\n",
       "          3.6069794e-04, -6.5495737e-04, -5.5324030e-04],\n",
       "        ...,\n",
       "        [-5.2764424e-04, -2.5159316e-04,  8.4429944e-04, ...,\n",
       "          1.6856511e-04, -4.8807310e-04,  1.7165262e-03],\n",
       "        [ 3.7836825e-04, -1.3551862e-03,  1.0641338e-03, ...,\n",
       "         -8.5264335e-05, -2.4078798e-04,  1.2288318e-03],\n",
       "        [ 1.6091177e-03, -2.5252085e-03,  1.0198083e-03, ...,\n",
       "         -3.2059682e-04,  1.0275343e-04,  7.4179930e-04]],\n",
       "\n",
       "       [[ 3.2617524e-04, -3.1723385e-04, -6.5875694e-04, ...,\n",
       "         -4.2462838e-04, -2.6549312e-04, -9.7635691e-04],\n",
       "        [ 3.5672155e-04,  5.0929975e-04, -1.3258241e-03, ...,\n",
       "          3.1181038e-04, -9.7643922e-04, -1.0410220e-03],\n",
       "        [-5.1127357e-04,  6.9916464e-04, -2.1008737e-03, ...,\n",
       "          6.7354529e-04, -1.3178334e-03, -1.7921205e-03],\n",
       "        ...,\n",
       "        [-1.0003891e-03, -1.0371844e-03, -7.7241013e-05, ...,\n",
       "          5.6141562e-05,  3.0511213e-03, -1.1584691e-03],\n",
       "        [ 2.5870322e-04, -1.8174865e-03,  1.0203365e-04, ...,\n",
       "         -1.1890194e-04,  2.9523424e-03, -1.1662081e-03],\n",
       "        [ 1.7188746e-03, -2.7700933e-03,  1.3519294e-04, ...,\n",
       "         -1.8893021e-04,  2.8670200e-03, -1.1977138e-03]],\n",
       "\n",
       "       [[ 3.2617524e-04, -3.1723385e-04, -6.5875694e-04, ...,\n",
       "         -4.2462838e-04, -2.6549312e-04, -9.7635691e-04],\n",
       "        [ 6.4245315e-04, -8.4615871e-04, -2.6223093e-04, ...,\n",
       "         -3.0293880e-04,  5.8256136e-04, -9.8172005e-04],\n",
       "        [ 3.1758347e-04, -3.2410043e-04, -4.1915927e-04, ...,\n",
       "          4.4997706e-04,  1.1816435e-03, -8.7015715e-04],\n",
       "        ...,\n",
       "        [-3.6706121e-03, -2.2769710e-03,  1.5174062e-03, ...,\n",
       "          2.9307180e-03,  5.5862073e-04,  3.1579307e-03],\n",
       "        [-3.0101445e-03, -3.1980802e-03,  2.2740667e-03, ...,\n",
       "          2.5628256e-03,  6.0192647e-04,  2.4649061e-03],\n",
       "        [-1.9082896e-03, -4.0631206e-03,  2.4713678e-03, ...,\n",
       "          2.1507517e-03,  6.9411052e-04,  1.6875888e-03]]], dtype=float32)>"
      ]
     },
     "execution_count": 43,
     "metadata": {},
     "output_type": "execute_result"
    }
   ],
   "source": [
    "for src_sample, tgt_sample in dataset.take(1): break\n",
    "model(src_sample)"
   ]
  },
  {
   "cell_type": "code",
   "execution_count": 44,
   "id": "constitutional-characterization",
   "metadata": {},
   "outputs": [
    {
     "name": "stdout",
     "output_type": "stream",
     "text": [
      "Model: \"text_generator_2\"\n",
      "_________________________________________________________________\n",
      "Layer (type)                 Output Shape              Param #   \n",
      "=================================================================\n",
      "embedding_2 (Embedding)      multiple                  14338048  \n",
      "_________________________________________________________________\n",
      "lstm_4 (LSTM)                multiple                  33562624  \n",
      "_________________________________________________________________\n",
      "dropout (Dropout)            multiple                  0         \n",
      "_________________________________________________________________\n",
      "lstm_5 (LSTM)                multiple                  33562624  \n",
      "_________________________________________________________________\n",
      "dense_2 (Dense)              multiple                  14345049  \n",
      "=================================================================\n",
      "Total params: 95,808,345\n",
      "Trainable params: 95,808,345\n",
      "Non-trainable params: 0\n",
      "_________________________________________________________________\n"
     ]
    }
   ],
   "source": [
    "\n",
    "model.summary()"
   ]
  },
  {
   "cell_type": "code",
   "execution_count": 45,
   "id": "direct-supply",
   "metadata": {},
   "outputs": [],
   "source": [
    "optimizer = tf.keras.optimizers.Adam(learning_rate=0.001)\n",
    "loss = tf.keras.losses.SparseCategoricalCrossentropy(\n",
    "    from_logits=True,\n",
    "    reduction='none'\n",
    ")\n",
    "\n",
    "model.compile(loss=loss, optimizer=optimizer, metrics=['accuracy'])"
   ]
  },
  {
   "cell_type": "code",
   "execution_count": 46,
   "id": "local-burke",
   "metadata": {},
   "outputs": [
    {
     "name": "stdout",
     "output_type": "stream",
     "text": [
      "Epoch 1/7\n",
      "549/549 [==============================] - 564s 1s/step - loss: 3.6913 - accuracy: 0.4459 - val_loss: 2.8936 - val_accuracy: 0.5096\n",
      "Epoch 2/7\n",
      "549/549 [==============================] - 565s 1s/step - loss: 2.7850 - accuracy: 0.5161 - val_loss: 2.6417 - val_accuracy: 0.5346\n",
      "Epoch 3/7\n",
      "549/549 [==============================] - 564s 1s/step - loss: 2.4593 - accuracy: 0.5466 - val_loss: 2.4757 - val_accuracy: 0.5578\n",
      "Epoch 4/7\n",
      "549/549 [==============================] - 564s 1s/step - loss: 2.1631 - accuracy: 0.5832 - val_loss: 2.3564 - val_accuracy: 0.5782\n",
      "Epoch 5/7\n",
      "549/549 [==============================] - 568s 1s/step - loss: 1.8906 - accuracy: 0.6237 - val_loss: 2.2712 - val_accuracy: 0.5970\n",
      "Epoch 6/7\n",
      "549/549 [==============================] - 569s 1s/step - loss: 1.6526 - accuracy: 0.6645 - val_loss: 2.2164 - val_accuracy: 0.6130\n",
      "Epoch 7/7\n",
      "549/549 [==============================] - 567s 1s/step - loss: 1.4533 - accuracy: 0.7028 - val_loss: 2.1887 - val_accuracy: 0.6266\n"
     ]
    }
   ],
   "source": [
    "history = model.fit(dataset,\n",
    "          epochs=7,\n",
    "          validation_data=val_dataset,\n",
    "          verbose=1)"
   ]
  },
  {
   "cell_type": "code",
   "execution_count": 47,
   "id": "published-underwear",
   "metadata": {},
   "outputs": [
    {
     "data": {
      "image/png": "[encoded data removed]",
      "text/plain": [
       "<Figure size 864x576 with 2 Axes>"
      ]
     },
     "metadata": {
      "needs_background": "light"
     },
     "output_type": "display_data"
    }
   ],
   "source": [
    "plot_curve(history.epoch, history.history, ['loss', 'val_loss', 'accuracy', 'val_accuracy'])"
   ]
  },
  {
   "cell_type": "code",
   "execution_count": 48,
   "id": "enabling-banks",
   "metadata": {},
   "outputs": [
    {
     "data": {
      "text/plain": [
       "'<start> i love you so much <end> '"
      ]
     },
     "execution_count": 48,
     "metadata": {},
     "output_type": "execute_result"
    }
   ],
   "source": [
    "generate_text(model, tokenizer, init_sentence=\"<start> i love\", max_len=20)"
   ]
  },
  {
   "cell_type": "code",
   "execution_count": 49,
   "id": "abandoned-dream",
   "metadata": {},
   "outputs": [
    {
     "data": {
      "text/plain": [
       "'<start> i am the generous queen ! ask ms . <unk> <end> '"
      ]
     },
     "execution_count": 49,
     "metadata": {},
     "output_type": "execute_result"
    }
   ],
   "source": [
    "generate_text(model, tokenizer, init_sentence=\"<start> i am\", max_len=20)"
   ]
  },
  {
   "cell_type": "code",
   "execution_count": null,
   "id": "oriental-separation",
   "metadata": {},
   "outputs": [],
   "source": []
  }
 ],
 "metadata": {
  "kernelspec": {
   "display_name": "Python 3",
   "language": "python",
   "name": "python3"
  },
  "language_info": {
   "codemirror_mode": {
    "name": "ipython",
    "version": 3
   },
   "file_extension": ".py",
   "mimetype": "text/x-python",
   "name": "python",
   "nbconvert_exporter": "python",
   "pygments_lexer": "ipython3",
   "version": "3.7.9"
  }
 },
 "nbformat": 4,
 "nbformat_minor": 5
}
